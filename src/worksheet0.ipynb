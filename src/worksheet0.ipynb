{
 "cells": [
  {
   "cell_type": "markdown",
   "id": "97af6670",
   "metadata": {},
   "source": [
    "# Worksheet0"
   ]
  },
  {
   "cell_type": "markdown",
   "id": "602250b8",
   "metadata": {},
   "source": [
    "### Linear Algebra"
   ]
  },
  {
   "cell_type": "code",
   "execution_count": 1,
   "id": "05047efa",
   "metadata": {},
   "outputs": [],
   "source": [
    "A = [[0 1], [2 3], [4 5]];\n",
    "B = [[1 1 1], [2 2 2]];"
   ]
  },
  {
   "cell_type": "code",
   "execution_count": 2,
   "id": "e4f97de0",
   "metadata": {},
   "outputs": [
    {
     "data": {
      "text/plain": [
       "2×3 adjoint(::Matrix{Int64}) with eltype Int64:\n",
       " 1  1  1\n",
       " 2  2  2"
      ]
     },
     "metadata": {},
     "output_type": "display_data"
    }
   ],
   "source": [
    "A_elements = Vector(0:5)\n",
    "A_elements = collect(0:5)\n",
    "\n",
    "B_elements = repeat([1, 2], inner=3)\n",
    "\n",
    "# reshape columnwise\n",
    "A = reshape(A_elements, 2, :)'\n",
    "B = reshape(B_elements, 3, :)'\n",
    "# if want order to be mantained and matrix is not squared, reshape with exhanged dimensions and then transpose"
   ]
  },
  {
   "cell_type": "code",
   "execution_count": 3,
   "id": "5fef7976",
   "metadata": {},
   "outputs": [
    {
     "data": {
      "text/plain": [
       "2×3 Matrix{Int64}:\n",
       " 1  1  1\n",
       " 2  2  2"
      ]
     },
     "metadata": {},
     "output_type": "display_data"
    }
   ],
   "source": [
    "B = repeat([1, 2], 1, 3)"
   ]
  },
  {
   "cell_type": "code",
   "execution_count": 4,
   "id": "deaf2236",
   "metadata": {},
   "outputs": [
    {
     "data": {
      "text/plain": [
       "3×3 Matrix{Int64}:\n",
       "  2   2   2\n",
       "  8   8   8\n",
       " 14  14  14"
      ]
     },
     "metadata": {},
     "output_type": "display_data"
    }
   ],
   "source": [
    "C = A*B"
   ]
  },
  {
   "cell_type": "code",
   "execution_count": 5,
   "id": "5d5d7e91",
   "metadata": {},
   "outputs": [
    {
     "data": {
      "text/plain": [
       "3×3 adjoint(::Matrix{Int64}) with eltype Int64:\n",
       " 1  2  3\n",
       " 4  5  6\n",
       " 7  8  9"
      ]
     },
     "metadata": {},
     "output_type": "display_data"
    }
   ],
   "source": [
    "u = collect(1:9)\n",
    "U = reshape(u, 3, :)'"
   ]
  },
  {
   "cell_type": "markdown",
   "id": "54538de8",
   "metadata": {},
   "source": [
    "### Functions"
   ]
  },
  {
   "cell_type": "code",
   "execution_count": 6,
   "id": "fc3f4106",
   "metadata": {},
   "outputs": [
    {
     "data": {
      "text/plain": [
       "fill_vector (generic function with 1 method)"
      ]
     },
     "metadata": {},
     "output_type": "display_data"
    }
   ],
   "source": [
    "function fill_vector(vector)\n",
    "    return exp.(-[i for i in eachindex(vector)].^2)\n",
    "end"
   ]
  },
  {
   "cell_type": "code",
   "execution_count": 7,
   "id": "18af0f28",
   "metadata": {},
   "outputs": [
    {
     "data": {
      "text/plain": [
       "3-element Vector{Float64}:\n",
       " 0.36787944117144233\n",
       " 0.01831563888873418\n",
       " 0.00012340980408667956"
      ]
     },
     "metadata": {},
     "output_type": "display_data"
    }
   ],
   "source": [
    "v = Vector{Float16}(undef, 3)\n",
    "fill_vector(v)"
   ]
  },
  {
   "cell_type": "markdown",
   "id": "efd5daec",
   "metadata": {},
   "source": [
    "### Packages"
   ]
  },
  {
   "cell_type": "code",
   "execution_count": 8,
   "id": "cbb84c66",
   "metadata": {},
   "outputs": [],
   "source": [
    "using FastGaussQuadrature"
   ]
  },
  {
   "cell_type": "code",
   "execution_count": 9,
   "id": "53e8492b",
   "metadata": {},
   "outputs": [
    {
     "data": {
      "text/plain": [
       "0.4596976941320484"
      ]
     },
     "metadata": {},
     "output_type": "display_data"
    }
   ],
   "source": [
    "xnodes, weights = gausslegendre(5)\n",
    "remap_xnodes(nodes) = (nodes .+ 1) .* 0.5\n",
    "f(x) = sin(x)\n",
    "integral = 0.5 * sum(weights .* f.(remap_xnodes(xnodes)))"
   ]
  },
  {
   "cell_type": "code",
   "execution_count": 10,
   "id": "cae9ef16",
   "metadata": {},
   "outputs": [],
   "source": [
    "using Plots"
   ]
  },
  {
   "cell_type": "code",
   "execution_count": 11,
   "id": "6466fcbd",
   "metadata": {},
   "outputs": [
    {
     "data": {
      "image/png": "[encoded data removed]",
      "image/svg+xml": [
       "<?xml version=\"1.0\" encoding=\"utf-8\"?>\n",
       "<svg xmlns=\"http://www.w3.org/2000/svg\" xmlns:xlink=\"http://www.w3.org/1999/xlink\" width=\"600\" height=\"400\" viewBox=\"0 0 2400 1600\">\n",
       "<defs>\n",
       "  <clipPath id=\"clip310\">\n",
       "    <rect x=\"0\" y=\"0\" width=\"2400\" height=\"1600\"/>\n",
       "  </clipPath>\n",
       "</defs>\n",
       "<path clip-path=\"url(#clip310)\" d=\"M0 1600 L2400 1600 L2400 0 L0 0  Z\" fill=\"#ffffff\" fill-rule=\"evenodd\" fill-opacity=\"1\"/>\n",
       "<defs>\n",
       "  <clipPath id=\"clip311\">\n",
       "    <rect x=\"480\" y=\"0\" width=\"1681\" height=\"1600\"/>\n",
       "  </clipPath>\n",
       "</defs>\n",
       "<path clip-path=\"url(#clip310)\" d=\"M193.936 1486.45 L2352.76 1486.45 L2352.76 47.2441 L193.936 47.2441  Z\" fill=\"#ffffff\" fill-rule=\"evenodd\" fill-opacity=\"1\"/>\n",
       "<defs>\n",
       "  <clipPath id=\"clip312\">\n",
       "    <rect x=\"193\" y=\"47\" width=\"2160\" height=\"1440\"/>\n",
       "  </clipPath>\n",
       "</defs>\n",
       "<polyline clip-path=\"url(#clip312)\" style=\"stroke:#000000; stroke-linecap:round; stroke-linejoin:round; stroke-width:2; stroke-opacity:0.1; fill:none\" points=\"255.035,1486.45 255.035,47.2441 \"/>\n",
       "<polyline clip-path=\"url(#clip312)\" style=\"stroke:#000000; stroke-linecap:round; stroke-linejoin:round; stroke-width:2; stroke-opacity:0.1; fill:none\" points=\"579.173,1486.45 579.173,47.2441 \"/>\n",
       "<polyline clip-path=\"url(#clip312)\" style=\"stroke:#000000; stroke-linecap:round; stroke-linejoin:round; stroke-width:2; stroke-opacity:0.1; fill:none\" points=\"903.312,1486.45 903.312,47.2441 \"/>\n",
       "<polyline clip-path=\"url(#clip312)\" style=\"stroke:#000000; stroke-linecap:round; stroke-linejoin:round; stroke-width:2; stroke-opacity:0.1; fill:none\" points=\"1227.45,1486.45 1227.45,47.2441 \"/>\n",
       "<polyline clip-path=\"url(#clip312)\" style=\"stroke:#000000; stroke-linecap:round; stroke-linejoin:round; stroke-width:2; stroke-opacity:0.1; fill:none\" points=\"1551.59,1486.45 1551.59,47.2441 \"/>\n",
       "<polyline clip-path=\"url(#clip312)\" style=\"stroke:#000000; stroke-linecap:round; stroke-linejoin:round; stroke-width:2; stroke-opacity:0.1; fill:none\" points=\"1875.73,1486.45 1875.73,47.2441 \"/>\n",
       "<polyline clip-path=\"url(#clip312)\" style=\"stroke:#000000; stroke-linecap:round; stroke-linejoin:round; stroke-width:2; stroke-opacity:0.1; fill:none\" points=\"2199.87,1486.45 2199.87,47.2441 \"/>\n",
       "<polyline clip-path=\"url(#clip312)\" style=\"stroke:#000000; stroke-linecap:round; stroke-linejoin:round; stroke-width:2; stroke-opacity:0.1; fill:none\" points=\"193.936,1445.8 2352.76,1445.8 \"/>\n",
       "<polyline clip-path=\"url(#clip312)\" style=\"stroke:#000000; stroke-linecap:round; stroke-linejoin:round; stroke-width:2; stroke-opacity:0.1; fill:none\" points=\"193.936,1106.32 2352.76,1106.32 \"/>\n",
       "<polyline clip-path=\"url(#clip312)\" style=\"stroke:#000000; stroke-linecap:round; stroke-linejoin:round; stroke-width:2; stroke-opacity:0.1; fill:none\" points=\"193.936,766.846 2352.76,766.846 \"/>\n",
       "<polyline clip-path=\"url(#clip312)\" style=\"stroke:#000000; stroke-linecap:round; stroke-linejoin:round; stroke-width:2; stroke-opacity:0.1; fill:none\" points=\"193.936,427.368 2352.76,427.368 \"/>\n",
       "<polyline clip-path=\"url(#clip312)\" style=\"stroke:#000000; stroke-linecap:round; stroke-linejoin:round; stroke-width:2; stroke-opacity:0.1; fill:none\" points=\"193.936,87.8908 2352.76,87.8908 \"/>\n",
       "<polyline clip-path=\"url(#clip310)\" style=\"stroke:#000000; stroke-linecap:round; stroke-linejoin:round; stroke-width:4; stroke-opacity:1; fill:none\" points=\"193.936,1486.45 2352.76,1486.45 \"/>\n",
       "<polyline clip-path=\"url(#clip310)\" style=\"stroke:#000000; stroke-linecap:round; stroke-linejoin:round; stroke-width:4; stroke-opacity:1; fill:none\" points=\"255.035,1486.45 255.035,1467.55 \"/>\n",
       "<polyline clip-path=\"url(#clip310)\" style=\"stroke:#000000; stroke-linecap:round; stroke-linejoin:round; stroke-width:4; stroke-opacity:1; fill:none\" points=\"579.173,1486.45 579.173,1467.55 \"/>\n",
       "<polyline clip-path=\"url(#clip310)\" style=\"stroke:#000000; stroke-linecap:round; stroke-linejoin:round; stroke-width:4; stroke-opacity:1; fill:none\" points=\"903.312,1486.45 903.312,1467.55 \"/>\n",
       "<polyline clip-path=\"url(#clip310)\" style=\"stroke:#000000; stroke-linecap:round; stroke-linejoin:round; stroke-width:4; stroke-opacity:1; fill:none\" points=\"1227.45,1486.45 1227.45,1467.55 \"/>\n",
       "<polyline clip-path=\"url(#clip310)\" style=\"stroke:#000000; stroke-linecap:round; stroke-linejoin:round; stroke-width:4; stroke-opacity:1; fill:none\" points=\"1551.59,1486.45 1551.59,1467.55 \"/>\n",
       "<polyline clip-path=\"url(#clip310)\" style=\"stroke:#000000; stroke-linecap:round; stroke-linejoin:round; stroke-width:4; stroke-opacity:1; fill:none\" points=\"1875.73,1486.45 1875.73,1467.55 \"/>\n",
       "<polyline clip-path=\"url(#clip310)\" style=\"stroke:#000000; stroke-linecap:round; stroke-linejoin:round; stroke-width:4; stroke-opacity:1; fill:none\" points=\"2199.87,1486.45 2199.87,1467.55 \"/>\n",
       "<path clip-path=\"url(#clip310)\" d=\"M255.035 1517.37 Q251.424 1517.37 249.595 1520.93 Q247.789 1524.47 247.789 1531.6 Q247.789 1538.71 249.595 1542.27 Q251.424 1545.82 255.035 1545.82 Q258.669 1545.82 260.474 1542.27 Q262.303 1538.71 262.303 1531.6 Q262.303 1524.47 260.474 1520.93 Q258.669 1517.37 255.035 1517.37 M255.035 1513.66 Q260.845 1513.66 263.9 1518.27 Q266.979 1522.85 266.979 1531.6 Q266.979 1540.33 263.9 1544.94 Q260.845 1549.52 255.035 1549.52 Q249.225 1549.52 246.146 1544.94 Q243.09 1540.33 243.09 1531.6 Q243.09 1522.85 246.146 1518.27 Q249.225 1513.66 255.035 1513.66 Z\" fill=\"#000000\" fill-rule=\"nonzero\" fill-opacity=\"1\" /><path clip-path=\"url(#clip310)\" d=\"M569.555 1544.91 L577.194 1544.91 L577.194 1518.55 L568.884 1520.21 L568.884 1515.95 L577.148 1514.29 L581.824 1514.29 L581.824 1544.91 L589.463 1544.91 L589.463 1548.85 L569.555 1548.85 L569.555 1544.91 Z\" fill=\"#000000\" fill-rule=\"nonzero\" fill-opacity=\"1\" /><path clip-path=\"url(#clip310)\" d=\"M897.965 1544.91 L914.284 1544.91 L914.284 1548.85 L892.34 1548.85 L892.34 1544.91 Q895.002 1542.16 899.585 1537.53 Q904.191 1532.88 905.372 1531.53 Q907.617 1529.01 908.497 1527.27 Q909.4 1525.51 909.4 1523.82 Q909.4 1521.07 907.455 1519.33 Q905.534 1517.6 902.432 1517.6 Q900.233 1517.6 897.779 1518.36 Q895.349 1519.13 892.571 1520.68 L892.571 1515.95 Q895.395 1514.82 897.849 1514.24 Q900.303 1513.66 902.34 1513.66 Q907.71 1513.66 910.904 1516.35 Q914.099 1519.03 914.099 1523.52 Q914.099 1525.65 913.289 1527.57 Q912.502 1529.47 910.395 1532.07 Q909.816 1532.74 906.715 1535.95 Q903.613 1539.15 897.965 1544.91 Z\" fill=\"#000000\" fill-rule=\"nonzero\" fill-opacity=\"1\" /><path clip-path=\"url(#clip310)\" d=\"M1231.7 1530.21 Q1235.05 1530.93 1236.93 1533.2 Q1238.83 1535.47 1238.83 1538.8 Q1238.83 1543.92 1235.31 1546.72 Q1231.79 1549.52 1225.31 1549.52 Q1223.13 1549.52 1220.82 1549.08 Q1218.53 1548.66 1216.07 1547.81 L1216.07 1543.29 Q1218.02 1544.43 1220.33 1545.01 Q1222.65 1545.58 1225.17 1545.58 Q1229.57 1545.58 1231.86 1543.85 Q1234.17 1542.11 1234.17 1538.8 Q1234.17 1535.75 1232.02 1534.03 Q1229.89 1532.3 1226.07 1532.3 L1222.05 1532.3 L1222.05 1528.45 L1226.26 1528.45 Q1229.71 1528.45 1231.54 1527.09 Q1233.36 1525.7 1233.36 1523.11 Q1233.36 1520.45 1231.47 1519.03 Q1229.59 1517.6 1226.07 1517.6 Q1224.15 1517.6 1221.95 1518.01 Q1219.75 1518.43 1217.11 1519.31 L1217.11 1515.14 Q1219.78 1514.4 1222.09 1514.03 Q1224.43 1513.66 1226.49 1513.66 Q1231.81 1513.66 1234.92 1516.09 Q1238.02 1518.5 1238.02 1522.62 Q1238.02 1525.49 1236.37 1527.48 Q1234.73 1529.45 1231.7 1530.21 Z\" fill=\"#000000\" fill-rule=\"nonzero\" fill-opacity=\"1\" /><path clip-path=\"url(#clip310)\" d=\"M1554.6 1518.36 L1542.79 1536.81 L1554.6 1536.81 L1554.6 1518.36 M1553.37 1514.29 L1559.25 1514.29 L1559.25 1536.81 L1564.18 1536.81 L1564.18 1540.7 L1559.25 1540.7 L1559.25 1548.85 L1554.6 1548.85 L1554.6 1540.7 L1539 1540.7 L1539 1536.19 L1553.37 1514.29 Z\" fill=\"#000000\" fill-rule=\"nonzero\" fill-opacity=\"1\" /><path clip-path=\"url(#clip310)\" d=\"M1866.01 1514.29 L1884.36 1514.29 L1884.36 1518.22 L1870.29 1518.22 L1870.29 1526.7 Q1871.31 1526.35 1872.32 1526.19 Q1873.34 1526 1874.36 1526 Q1880.15 1526 1883.53 1529.17 Q1886.91 1532.34 1886.91 1537.76 Q1886.91 1543.34 1883.44 1546.44 Q1879.96 1549.52 1873.64 1549.52 Q1871.47 1549.52 1869.2 1549.15 Q1866.95 1548.78 1864.55 1548.04 L1864.55 1543.34 Q1866.63 1544.47 1868.85 1545.03 Q1871.07 1545.58 1873.55 1545.58 Q1877.56 1545.58 1879.89 1543.48 Q1882.23 1541.37 1882.23 1537.76 Q1882.23 1534.15 1879.89 1532.04 Q1877.56 1529.94 1873.55 1529.94 Q1871.68 1529.94 1869.8 1530.35 Q1867.95 1530.77 1866.01 1531.65 L1866.01 1514.29 Z\" fill=\"#000000\" fill-rule=\"nonzero\" fill-opacity=\"1\" /><path clip-path=\"url(#clip310)\" d=\"M2200.27 1529.7 Q2197.12 1529.7 2195.27 1531.86 Q2193.44 1534.01 2193.44 1537.76 Q2193.44 1541.49 2195.27 1543.66 Q2197.12 1545.82 2200.27 1545.82 Q2203.42 1545.82 2205.25 1543.66 Q2207.1 1541.49 2207.1 1537.76 Q2207.1 1534.01 2205.25 1531.86 Q2203.42 1529.7 2200.27 1529.7 M2209.55 1515.05 L2209.55 1519.31 Q2207.79 1518.48 2205.99 1518.04 Q2204.21 1517.6 2202.45 1517.6 Q2197.82 1517.6 2195.36 1520.72 Q2192.93 1523.85 2192.59 1530.17 Q2193.95 1528.15 2196.01 1527.09 Q2198.07 1526 2200.55 1526 Q2205.76 1526 2208.77 1529.17 Q2211.8 1532.32 2211.8 1537.76 Q2211.8 1543.08 2208.65 1546.3 Q2205.5 1549.52 2200.27 1549.52 Q2194.28 1549.52 2191.1 1544.94 Q2187.93 1540.33 2187.93 1531.6 Q2187.93 1523.41 2191.82 1518.55 Q2195.71 1513.66 2202.26 1513.66 Q2204.02 1513.66 2205.8 1514.01 Q2207.61 1514.36 2209.55 1515.05 Z\" fill=\"#000000\" fill-rule=\"nonzero\" fill-opacity=\"1\" /><polyline clip-path=\"url(#clip310)\" style=\"stroke:#000000; stroke-linecap:round; stroke-linejoin:round; stroke-width:4; stroke-opacity:1; fill:none\" points=\"193.936,1486.45 193.936,47.2441 \"/>\n",
       "<polyline clip-path=\"url(#clip310)\" style=\"stroke:#000000; stroke-linecap:round; stroke-linejoin:round; stroke-width:4; stroke-opacity:1; fill:none\" points=\"193.936,1445.8 212.834,1445.8 \"/>\n",
       "<polyline clip-path=\"url(#clip310)\" style=\"stroke:#000000; stroke-linecap:round; stroke-linejoin:round; stroke-width:4; stroke-opacity:1; fill:none\" points=\"193.936,1106.32 212.834,1106.32 \"/>\n",
       "<polyline clip-path=\"url(#clip310)\" style=\"stroke:#000000; stroke-linecap:round; stroke-linejoin:round; stroke-width:4; stroke-opacity:1; fill:none\" points=\"193.936,766.846 212.834,766.846 \"/>\n",
       "<polyline clip-path=\"url(#clip310)\" style=\"stroke:#000000; stroke-linecap:round; stroke-linejoin:round; stroke-width:4; stroke-opacity:1; fill:none\" points=\"193.936,427.368 212.834,427.368 \"/>\n",
       "<polyline clip-path=\"url(#clip310)\" style=\"stroke:#000000; stroke-linecap:round; stroke-linejoin:round; stroke-width:4; stroke-opacity:1; fill:none\" points=\"193.936,87.8908 212.834,87.8908 \"/>\n",
       "<path clip-path=\"url(#clip310)\" d=\"M50.9921 1446.25 L80.6679 1446.25 L80.6679 1450.19 L50.9921 1450.19 L50.9921 1446.25 Z\" fill=\"#000000\" fill-rule=\"nonzero\" fill-opacity=\"1\" /><path clip-path=\"url(#clip310)\" d=\"M91.5706 1459.15 L99.2095 1459.15 L99.2095 1432.78 L90.8993 1434.45 L90.8993 1430.19 L99.1632 1428.52 L103.839 1428.52 L103.839 1459.15 L111.478 1459.15 L111.478 1463.08 L91.5706 1463.08 L91.5706 1459.15 Z\" fill=\"#000000\" fill-rule=\"nonzero\" fill-opacity=\"1\" /><path clip-path=\"url(#clip310)\" d=\"M120.922 1457.2 L125.807 1457.2 L125.807 1463.08 L120.922 1463.08 L120.922 1457.2 Z\" fill=\"#000000\" fill-rule=\"nonzero\" fill-opacity=\"1\" /><path clip-path=\"url(#clip310)\" d=\"M145.992 1431.6 Q142.381 1431.6 140.552 1435.16 Q138.746 1438.71 138.746 1445.84 Q138.746 1452.94 140.552 1456.51 Q142.381 1460.05 145.992 1460.05 Q149.626 1460.05 151.431 1456.51 Q153.26 1452.94 153.26 1445.84 Q153.26 1438.71 151.431 1435.16 Q149.626 1431.6 145.992 1431.6 M145.992 1427.9 Q151.802 1427.9 154.857 1432.5 Q157.936 1437.09 157.936 1445.84 Q157.936 1454.56 154.857 1459.17 Q151.802 1463.75 145.992 1463.75 Q140.181 1463.75 137.103 1459.17 Q134.047 1454.56 134.047 1445.84 Q134.047 1437.09 137.103 1432.5 Q140.181 1427.9 145.992 1427.9 Z\" fill=\"#000000\" fill-rule=\"nonzero\" fill-opacity=\"1\" /><path clip-path=\"url(#clip310)\" d=\"M51.9875 1106.77 L81.6633 1106.77 L81.6633 1110.71 L51.9875 1110.71 L51.9875 1106.77 Z\" fill=\"#000000\" fill-rule=\"nonzero\" fill-opacity=\"1\" /><path clip-path=\"url(#clip310)\" d=\"M101.756 1092.12 Q98.1447 1092.12 96.316 1095.69 Q94.5104 1099.23 94.5104 1106.36 Q94.5104 1113.46 96.316 1117.03 Q98.1447 1120.57 101.756 1120.57 Q105.39 1120.57 107.196 1117.03 Q109.024 1113.46 109.024 1106.36 Q109.024 1099.23 107.196 1095.69 Q105.39 1092.12 101.756 1092.12 M101.756 1088.42 Q107.566 1088.42 110.621 1093.03 Q113.7 1097.61 113.7 1106.36 Q113.7 1115.09 110.621 1119.69 Q107.566 1124.27 101.756 1124.27 Q95.9456 1124.27 92.8669 1119.69 Q89.8114 1115.09 89.8114 1106.36 Q89.8114 1097.61 92.8669 1093.03 Q95.9456 1088.42 101.756 1088.42 Z\" fill=\"#000000\" fill-rule=\"nonzero\" fill-opacity=\"1\" /><path clip-path=\"url(#clip310)\" d=\"M121.918 1117.72 L126.802 1117.72 L126.802 1123.6 L121.918 1123.6 L121.918 1117.72 Z\" fill=\"#000000\" fill-rule=\"nonzero\" fill-opacity=\"1\" /><path clip-path=\"url(#clip310)\" d=\"M137.033 1089.04 L155.39 1089.04 L155.39 1092.98 L141.316 1092.98 L141.316 1101.45 Q142.334 1101.1 143.353 1100.94 Q144.371 1100.76 145.39 1100.76 Q151.177 1100.76 154.556 1103.93 Q157.936 1107.1 157.936 1112.52 Q157.936 1118.09 154.464 1121.2 Q150.992 1124.27 144.672 1124.27 Q142.496 1124.27 140.228 1123.9 Q137.982 1123.53 135.575 1122.79 L135.575 1118.09 Q137.658 1119.23 139.881 1119.78 Q142.103 1120.34 144.58 1120.34 Q148.584 1120.34 150.922 1118.23 Q153.26 1116.13 153.26 1112.52 Q153.26 1108.9 150.922 1106.8 Q148.584 1104.69 144.58 1104.69 Q142.705 1104.69 140.83 1105.11 Q138.978 1105.52 137.033 1106.4 L137.033 1089.04 Z\" fill=\"#000000\" fill-rule=\"nonzero\" fill-opacity=\"1\" /><path clip-path=\"url(#clip310)\" d=\"M100.76 752.645 Q97.1493 752.645 95.3206 756.209 Q93.515 759.751 93.515 766.881 Q93.515 773.987 95.3206 777.552 Q97.1493 781.094 100.76 781.094 Q104.395 781.094 106.2 777.552 Q108.029 773.987 108.029 766.881 Q108.029 759.751 106.2 756.209 Q104.395 752.645 100.76 752.645 M100.76 748.941 Q106.571 748.941 109.626 753.547 Q112.705 758.131 112.705 766.881 Q112.705 775.608 109.626 780.214 Q106.571 784.797 100.76 784.797 Q94.9502 784.797 91.8715 780.214 Q88.816 775.608 88.816 766.881 Q88.816 758.131 91.8715 753.547 Q94.9502 748.941 100.76 748.941 Z\" fill=\"#000000\" fill-rule=\"nonzero\" fill-opacity=\"1\" /><path clip-path=\"url(#clip310)\" d=\"M120.922 778.246 L125.807 778.246 L125.807 784.126 L120.922 784.126 L120.922 778.246 Z\" fill=\"#000000\" fill-rule=\"nonzero\" fill-opacity=\"1\" /><path clip-path=\"url(#clip310)\" d=\"M145.992 752.645 Q142.381 752.645 140.552 756.209 Q138.746 759.751 138.746 766.881 Q138.746 773.987 140.552 777.552 Q142.381 781.094 145.992 781.094 Q149.626 781.094 151.431 777.552 Q153.26 773.987 153.26 766.881 Q153.26 759.751 151.431 756.209 Q149.626 752.645 145.992 752.645 M145.992 748.941 Q151.802 748.941 154.857 753.547 Q157.936 758.131 157.936 766.881 Q157.936 775.608 154.857 780.214 Q151.802 784.797 145.992 784.797 Q140.181 784.797 137.103 780.214 Q134.047 775.608 134.047 766.881 Q134.047 758.131 137.103 753.547 Q140.181 748.941 145.992 748.941 Z\" fill=\"#000000\" fill-rule=\"nonzero\" fill-opacity=\"1\" /><path clip-path=\"url(#clip310)\" d=\"M101.756 413.167 Q98.1447 413.167 96.316 416.732 Q94.5104 420.274 94.5104 427.403 Q94.5104 434.51 96.316 438.074 Q98.1447 441.616 101.756 441.616 Q105.39 441.616 107.196 438.074 Q109.024 434.51 109.024 427.403 Q109.024 420.274 107.196 416.732 Q105.39 413.167 101.756 413.167 M101.756 409.463 Q107.566 409.463 110.621 414.07 Q113.7 418.653 113.7 427.403 Q113.7 436.13 110.621 440.736 Q107.566 445.32 101.756 445.32 Q95.9456 445.32 92.8669 440.736 Q89.8114 436.13 89.8114 427.403 Q89.8114 418.653 92.8669 414.07 Q95.9456 409.463 101.756 409.463 Z\" fill=\"#000000\" fill-rule=\"nonzero\" fill-opacity=\"1\" /><path clip-path=\"url(#clip310)\" d=\"M121.918 438.769 L126.802 438.769 L126.802 444.648 L121.918 444.648 L121.918 438.769 Z\" fill=\"#000000\" fill-rule=\"nonzero\" fill-opacity=\"1\" /><path clip-path=\"url(#clip310)\" d=\"M137.033 410.088 L155.39 410.088 L155.39 414.024 L141.316 414.024 L141.316 422.496 Q142.334 422.149 143.353 421.986 Q144.371 421.801 145.39 421.801 Q151.177 421.801 154.556 424.973 Q157.936 428.144 157.936 433.56 Q157.936 439.139 154.464 442.241 Q150.992 445.32 144.672 445.32 Q142.496 445.32 140.228 444.949 Q137.982 444.579 135.575 443.838 L135.575 439.139 Q137.658 440.273 139.881 440.829 Q142.103 441.385 144.58 441.385 Q148.584 441.385 150.922 439.278 Q153.26 437.172 153.26 433.56 Q153.26 429.949 150.922 427.843 Q148.584 425.736 144.58 425.736 Q142.705 425.736 140.83 426.153 Q138.978 426.57 137.033 427.449 L137.033 410.088 Z\" fill=\"#000000\" fill-rule=\"nonzero\" fill-opacity=\"1\" /><path clip-path=\"url(#clip310)\" d=\"M91.5706 101.236 L99.2095 101.236 L99.2095 74.8701 L90.8993 76.5367 L90.8993 72.2775 L99.1632 70.6108 L103.839 70.6108 L103.839 101.236 L111.478 101.236 L111.478 105.171 L91.5706 105.171 L91.5706 101.236 Z\" fill=\"#000000\" fill-rule=\"nonzero\" fill-opacity=\"1\" /><path clip-path=\"url(#clip310)\" d=\"M120.922 99.2912 L125.807 99.2912 L125.807 105.171 L120.922 105.171 L120.922 99.2912 Z\" fill=\"#000000\" fill-rule=\"nonzero\" fill-opacity=\"1\" /><path clip-path=\"url(#clip310)\" d=\"M145.992 73.6895 Q142.381 73.6895 140.552 77.2543 Q138.746 80.7959 138.746 87.9255 Q138.746 95.032 140.552 98.5968 Q142.381 102.138 145.992 102.138 Q149.626 102.138 151.431 98.5968 Q153.26 95.032 153.26 87.9255 Q153.26 80.7959 151.431 77.2543 Q149.626 73.6895 145.992 73.6895 M145.992 69.9858 Q151.802 69.9858 154.857 74.5923 Q157.936 79.1756 157.936 87.9255 Q157.936 96.6523 154.857 101.259 Q151.802 105.842 145.992 105.842 Q140.181 105.842 137.103 101.259 Q134.047 96.6523 134.047 87.9255 Q134.047 79.1756 137.103 74.5923 Q140.181 69.9858 145.992 69.9858 Z\" fill=\"#000000\" fill-rule=\"nonzero\" fill-opacity=\"1\" /><polyline clip-path=\"url(#clip312)\" style=\"stroke:#009af9; stroke-linecap:round; stroke-linejoin:round; stroke-width:4; stroke-opacity:1; fill:none\" points=\"255.035,766.846 275.607,723.784 296.179,680.895 316.751,638.353 337.322,596.328 357.894,554.989 378.466,514.504 399.038,475.035 419.61,436.74 440.182,399.775 460.754,364.288 481.326,330.422 501.898,298.313 522.47,268.091 543.042,239.877 563.614,213.785 584.186,189.921 604.758,168.379 625.33,149.247 645.902,132.601 666.474,118.51 687.046,107.029 707.617,98.2057 728.189,92.0742 748.761,88.6598 769.333,87.9763 789.905,90.0263 810.477,94.8016 831.049,102.283 851.621,112.44 872.193,125.233 892.765,140.609 913.337,158.506 933.909,178.854 954.481,201.568 975.053,226.559 995.625,253.726 1016.2,282.959 1036.77,314.14 1057.34,347.144 1077.91,381.838 1098.48,418.082 1119.06,455.731 1139.63,494.632 1160.2,534.63 1180.77,575.562 1201.34,617.265 1221.92,659.57 1242.49,702.307 1263.06,745.304 1283.63,788.388 1304.2,831.385 1324.78,874.122 1345.35,916.427 1365.92,958.13 1386.49,999.062 1407.06,1039.06 1427.64,1077.96 1448.21,1115.61 1468.78,1151.85 1489.35,1186.55 1509.92,1219.55 1530.5,1250.73 1551.07,1279.97 1571.64,1307.13 1592.21,1332.12 1612.78,1354.84 1633.35,1375.19 1653.93,1393.08 1674.5,1408.46 1695.07,1421.25 1715.64,1431.41 1736.21,1438.89 1756.79,1443.67 1777.36,1445.72 1797.93,1445.03 1818.5,1441.62 1839.07,1435.49 1859.65,1426.66 1880.22,1415.18 1900.79,1401.09 1921.36,1384.45 1941.93,1365.31 1962.51,1343.77 1983.08,1319.91 2003.65,1293.81 2024.22,1265.6 2044.79,1235.38 2065.37,1203.27 2085.94,1169.4 2106.51,1133.92 2127.08,1096.95 2147.65,1058.66 2168.23,1019.19 2188.8,978.703 2209.37,937.364 2229.94,895.339 2250.51,852.797 2271.09,809.908 2291.66,766.846 \"/>\n",
       "<path clip-path=\"url(#clip310)\" d=\"M2012.48 198.898 L2280.8 198.898 L2280.8 95.2176 L2012.48 95.2176  Z\" fill=\"#ffffff\" fill-rule=\"evenodd\" fill-opacity=\"1\"/>\n",
       "<polyline clip-path=\"url(#clip310)\" style=\"stroke:#000000; stroke-linecap:round; stroke-linejoin:round; stroke-width:4; stroke-opacity:1; fill:none\" points=\"2012.48,198.898 2280.8,198.898 2280.8,95.2176 2012.48,95.2176 2012.48,198.898 \"/>\n",
       "<polyline clip-path=\"url(#clip310)\" style=\"stroke:#009af9; stroke-linecap:round; stroke-linejoin:round; stroke-width:4; stroke-opacity:1; fill:none\" points=\"2036.47,147.058 2180.39,147.058 \"/>\n",
       "<path clip-path=\"url(#clip310)\" d=\"M2218.22 166.745 Q2216.42 171.375 2214.7 172.787 Q2212.99 174.199 2210.12 174.199 L2206.72 174.199 L2206.72 170.634 L2209.22 170.634 Q2210.98 170.634 2211.95 169.8 Q2212.92 168.967 2214.1 165.865 L2214.86 163.921 L2204.38 138.412 L2208.89 138.412 L2216.99 158.689 L2225.1 138.412 L2229.61 138.412 L2218.22 166.745 Z\" fill=\"#000000\" fill-rule=\"nonzero\" fill-opacity=\"1\" /><path clip-path=\"url(#clip310)\" d=\"M2236.9 160.402 L2244.54 160.402 L2244.54 134.037 L2236.23 135.703 L2236.23 131.444 L2244.49 129.778 L2249.17 129.778 L2249.17 160.402 L2256.81 160.402 L2256.81 164.338 L2236.9 164.338 L2236.9 160.402 Z\" fill=\"#000000\" fill-rule=\"nonzero\" fill-opacity=\"1\" /></svg>\n"
      ],
      "text/html": [
       "<?xml version=\"1.0\" encoding=\"utf-8\"?>\n",
       "<svg xmlns=\"http://www.w3.org/2000/svg\" xmlns:xlink=\"http://www.w3.org/1999/xlink\" width=\"600\" height=\"400\" viewBox=\"0 0 2400 1600\">\n",
       "<defs>\n",
       "  <clipPath id=\"clip360\">\n",
       "    <rect x=\"0\" y=\"0\" width=\"2400\" height=\"1600\"/>\n",
       "  </clipPath>\n",
       "</defs>\n",
       "<path clip-path=\"url(#clip360)\" d=\"M0 1600 L2400 1600 L2400 0 L0 0  Z\" fill=\"#ffffff\" fill-rule=\"evenodd\" fill-opacity=\"1\"/>\n",
       "<defs>\n",
       "  <clipPath id=\"clip361\">\n",
       "    <rect x=\"480\" y=\"0\" width=\"1681\" height=\"1600\"/>\n",
       "  </clipPath>\n",
       "</defs>\n",
       "<path clip-path=\"url(#clip360)\" d=\"M193.936 1486.45 L2352.76 1486.45 L2352.76 47.2441 L193.936 47.2441  Z\" fill=\"#ffffff\" fill-rule=\"evenodd\" fill-opacity=\"1\"/>\n",
       "<defs>\n",
       "  <clipPath id=\"clip362\">\n",
       "    <rect x=\"193\" y=\"47\" width=\"2160\" height=\"1440\"/>\n",
       "  </clipPath>\n",
       "</defs>\n",
       "<polyline clip-path=\"url(#clip362)\" style=\"stroke:#000000; stroke-linecap:round; stroke-linejoin:round; stroke-width:2; stroke-opacity:0.1; fill:none\" points=\"255.035,1486.45 255.035,47.2441 \"/>\n",
       "<polyline clip-path=\"url(#clip362)\" style=\"stroke:#000000; stroke-linecap:round; stroke-linejoin:round; stroke-width:2; stroke-opacity:0.1; fill:none\" points=\"579.173,1486.45 579.173,47.2441 \"/>\n",
       "<polyline clip-path=\"url(#clip362)\" style=\"stroke:#000000; stroke-linecap:round; stroke-linejoin:round; stroke-width:2; stroke-opacity:0.1; fill:none\" points=\"903.312,1486.45 903.312,47.2441 \"/>\n",
       "<polyline clip-path=\"url(#clip362)\" style=\"stroke:#000000; stroke-linecap:round; stroke-linejoin:round; stroke-width:2; stroke-opacity:0.1; fill:none\" points=\"1227.45,1486.45 1227.45,47.2441 \"/>\n",
       "<polyline clip-path=\"url(#clip362)\" style=\"stroke:#000000; stroke-linecap:round; stroke-linejoin:round; stroke-width:2; stroke-opacity:0.1; fill:none\" points=\"1551.59,1486.45 1551.59,47.2441 \"/>\n",
       "<polyline clip-path=\"url(#clip362)\" style=\"stroke:#000000; stroke-linecap:round; stroke-linejoin:round; stroke-width:2; stroke-opacity:0.1; fill:none\" points=\"1875.73,1486.45 1875.73,47.2441 \"/>\n",
       "<polyline clip-path=\"url(#clip362)\" style=\"stroke:#000000; stroke-linecap:round; stroke-linejoin:round; stroke-width:2; stroke-opacity:0.1; fill:none\" points=\"2199.87,1486.45 2199.87,47.2441 \"/>\n",
       "<polyline clip-path=\"url(#clip362)\" style=\"stroke:#000000; stroke-linecap:round; stroke-linejoin:round; stroke-width:2; stroke-opacity:0.1; fill:none\" points=\"193.936,1445.8 2352.76,1445.8 \"/>\n",
       "<polyline clip-path=\"url(#clip362)\" style=\"stroke:#000000; stroke-linecap:round; stroke-linejoin:round; stroke-width:2; stroke-opacity:0.1; fill:none\" points=\"193.936,1106.32 2352.76,1106.32 \"/>\n",
       "<polyline clip-path=\"url(#clip362)\" style=\"stroke:#000000; stroke-linecap:round; stroke-linejoin:round; stroke-width:2; stroke-opacity:0.1; fill:none\" points=\"193.936,766.846 2352.76,766.846 \"/>\n",
       "<polyline clip-path=\"url(#clip362)\" style=\"stroke:#000000; stroke-linecap:round; stroke-linejoin:round; stroke-width:2; stroke-opacity:0.1; fill:none\" points=\"193.936,427.368 2352.76,427.368 \"/>\n",
       "<polyline clip-path=\"url(#clip362)\" style=\"stroke:#000000; stroke-linecap:round; stroke-linejoin:round; stroke-width:2; stroke-opacity:0.1; fill:none\" points=\"193.936,87.8908 2352.76,87.8908 \"/>\n",
       "<polyline clip-path=\"url(#clip360)\" style=\"stroke:#000000; stroke-linecap:round; stroke-linejoin:round; stroke-width:4; stroke-opacity:1; fill:none\" points=\"193.936,1486.45 2352.76,1486.45 \"/>\n",
       "<polyline clip-path=\"url(#clip360)\" style=\"stroke:#000000; stroke-linecap:round; stroke-linejoin:round; stroke-width:4; stroke-opacity:1; fill:none\" points=\"255.035,1486.45 255.035,1467.55 \"/>\n",
       "<polyline clip-path=\"url(#clip360)\" style=\"stroke:#000000; stroke-linecap:round; stroke-linejoin:round; stroke-width:4; stroke-opacity:1; fill:none\" points=\"579.173,1486.45 579.173,1467.55 \"/>\n",
       "<polyline clip-path=\"url(#clip360)\" style=\"stroke:#000000; stroke-linecap:round; stroke-linejoin:round; stroke-width:4; stroke-opacity:1; fill:none\" points=\"903.312,1486.45 903.312,1467.55 \"/>\n",
       "<polyline clip-path=\"url(#clip360)\" style=\"stroke:#000000; stroke-linecap:round; stroke-linejoin:round; stroke-width:4; stroke-opacity:1; fill:none\" points=\"1227.45,1486.45 1227.45,1467.55 \"/>\n",
       "<polyline clip-path=\"url(#clip360)\" style=\"stroke:#000000; stroke-linecap:round; stroke-linejoin:round; stroke-width:4; stroke-opacity:1; fill:none\" points=\"1551.59,1486.45 1551.59,1467.55 \"/>\n",
       "<polyline clip-path=\"url(#clip360)\" style=\"stroke:#000000; stroke-linecap:round; stroke-linejoin:round; stroke-width:4; stroke-opacity:1; fill:none\" points=\"1875.73,1486.45 1875.73,1467.55 \"/>\n",
       "<polyline clip-path=\"url(#clip360)\" style=\"stroke:#000000; stroke-linecap:round; stroke-linejoin:round; stroke-width:4; stroke-opacity:1; fill:none\" points=\"2199.87,1486.45 2199.87,1467.55 \"/>\n",
       "<path clip-path=\"url(#clip360)\" d=\"M255.035 1517.37 Q251.424 1517.37 249.595 1520.93 Q247.789 1524.47 247.789 1531.6 Q247.789 1538.71 249.595 1542.27 Q251.424 1545.82 255.035 1545.82 Q258.669 1545.82 260.474 1542.27 Q262.303 1538.71 262.303 1531.6 Q262.303 1524.47 260.474 1520.93 Q258.669 1517.37 255.035 1517.37 M255.035 1513.66 Q260.845 1513.66 263.9 1518.27 Q266.979 1522.85 266.979 1531.6 Q266.979 1540.33 263.9 1544.94 Q260.845 1549.52 255.035 1549.52 Q249.225 1549.52 246.146 1544.94 Q243.09 1540.33 243.09 1531.6 Q243.09 1522.85 246.146 1518.27 Q249.225 1513.66 255.035 1513.66 Z\" fill=\"#000000\" fill-rule=\"nonzero\" fill-opacity=\"1\" /><path clip-path=\"url(#clip360)\" d=\"M569.555 1544.91 L577.194 1544.91 L577.194 1518.55 L568.884 1520.21 L568.884 1515.95 L577.148 1514.29 L581.824 1514.29 L581.824 1544.91 L589.463 1544.91 L589.463 1548.85 L569.555 1548.85 L569.555 1544.91 Z\" fill=\"#000000\" fill-rule=\"nonzero\" fill-opacity=\"1\" /><path clip-path=\"url(#clip360)\" d=\"M897.965 1544.91 L914.284 1544.91 L914.284 1548.85 L892.34 1548.85 L892.34 1544.91 Q895.002 1542.16 899.585 1537.53 Q904.191 1532.88 905.372 1531.53 Q907.617 1529.01 908.497 1527.27 Q909.4 1525.51 909.4 1523.82 Q909.4 1521.07 907.455 1519.33 Q905.534 1517.6 902.432 1517.6 Q900.233 1517.6 897.779 1518.36 Q895.349 1519.13 892.571 1520.68 L892.571 1515.95 Q895.395 1514.82 897.849 1514.24 Q900.303 1513.66 902.34 1513.66 Q907.71 1513.66 910.904 1516.35 Q914.099 1519.03 914.099 1523.52 Q914.099 1525.65 913.289 1527.57 Q912.502 1529.47 910.395 1532.07 Q909.816 1532.74 906.715 1535.95 Q903.613 1539.15 897.965 1544.91 Z\" fill=\"#000000\" fill-rule=\"nonzero\" fill-opacity=\"1\" /><path clip-path=\"url(#clip360)\" d=\"M1231.7 1530.21 Q1235.05 1530.93 1236.93 1533.2 Q1238.83 1535.47 1238.83 1538.8 Q1238.83 1543.92 1235.31 1546.72 Q1231.79 1549.52 1225.31 1549.52 Q1223.13 1549.52 1220.82 1549.08 Q1218.53 1548.66 1216.07 1547.81 L1216.07 1543.29 Q1218.02 1544.43 1220.33 1545.01 Q1222.65 1545.58 1225.17 1545.58 Q1229.57 1545.58 1231.86 1543.85 Q1234.17 1542.11 1234.17 1538.8 Q1234.17 1535.75 1232.02 1534.03 Q1229.89 1532.3 1226.07 1532.3 L1222.05 1532.3 L1222.05 1528.45 L1226.26 1528.45 Q1229.71 1528.45 1231.54 1527.09 Q1233.36 1525.7 1233.36 1523.11 Q1233.36 1520.45 1231.47 1519.03 Q1229.59 1517.6 1226.07 1517.6 Q1224.15 1517.6 1221.95 1518.01 Q1219.75 1518.43 1217.11 1519.31 L1217.11 1515.14 Q1219.78 1514.4 1222.09 1514.03 Q1224.43 1513.66 1226.49 1513.66 Q1231.81 1513.66 1234.92 1516.09 Q1238.02 1518.5 1238.02 1522.62 Q1238.02 1525.49 1236.37 1527.48 Q1234.73 1529.45 1231.7 1530.21 Z\" fill=\"#000000\" fill-rule=\"nonzero\" fill-opacity=\"1\" /><path clip-path=\"url(#clip360)\" d=\"M1554.6 1518.36 L1542.79 1536.81 L1554.6 1536.81 L1554.6 1518.36 M1553.37 1514.29 L1559.25 1514.29 L1559.25 1536.81 L1564.18 1536.81 L1564.18 1540.7 L1559.25 1540.7 L1559.25 1548.85 L1554.6 1548.85 L1554.6 1540.7 L1539 1540.7 L1539 1536.19 L1553.37 1514.29 Z\" fill=\"#000000\" fill-rule=\"nonzero\" fill-opacity=\"1\" /><path clip-path=\"url(#clip360)\" d=\"M1866.01 1514.29 L1884.36 1514.29 L1884.36 1518.22 L1870.29 1518.22 L1870.29 1526.7 Q1871.31 1526.35 1872.32 1526.19 Q1873.34 1526 1874.36 1526 Q1880.15 1526 1883.53 1529.17 Q1886.91 1532.34 1886.91 1537.76 Q1886.91 1543.34 1883.44 1546.44 Q1879.96 1549.52 1873.64 1549.52 Q1871.47 1549.52 1869.2 1549.15 Q1866.95 1548.78 1864.55 1548.04 L1864.55 1543.34 Q1866.63 1544.47 1868.85 1545.03 Q1871.07 1545.58 1873.55 1545.58 Q1877.56 1545.58 1879.89 1543.48 Q1882.23 1541.37 1882.23 1537.76 Q1882.23 1534.15 1879.89 1532.04 Q1877.56 1529.94 1873.55 1529.94 Q1871.68 1529.94 1869.8 1530.35 Q1867.95 1530.77 1866.01 1531.65 L1866.01 1514.29 Z\" fill=\"#000000\" fill-rule=\"nonzero\" fill-opacity=\"1\" /><path clip-path=\"url(#clip360)\" d=\"M2200.27 1529.7 Q2197.12 1529.7 2195.27 1531.86 Q2193.44 1534.01 2193.44 1537.76 Q2193.44 1541.49 2195.27 1543.66 Q2197.12 1545.82 2200.27 1545.82 Q2203.42 1545.82 2205.25 1543.66 Q2207.1 1541.49 2207.1 1537.76 Q2207.1 1534.01 2205.25 1531.86 Q2203.42 1529.7 2200.27 1529.7 M2209.55 1515.05 L2209.55 1519.31 Q2207.79 1518.48 2205.99 1518.04 Q2204.21 1517.6 2202.45 1517.6 Q2197.82 1517.6 2195.36 1520.72 Q2192.93 1523.85 2192.59 1530.17 Q2193.95 1528.15 2196.01 1527.09 Q2198.07 1526 2200.55 1526 Q2205.76 1526 2208.77 1529.17 Q2211.8 1532.32 2211.8 1537.76 Q2211.8 1543.08 2208.65 1546.3 Q2205.5 1549.52 2200.27 1549.52 Q2194.28 1549.52 2191.1 1544.94 Q2187.93 1540.33 2187.93 1531.6 Q2187.93 1523.41 2191.82 1518.55 Q2195.71 1513.66 2202.26 1513.66 Q2204.02 1513.66 2205.8 1514.01 Q2207.61 1514.36 2209.55 1515.05 Z\" fill=\"#000000\" fill-rule=\"nonzero\" fill-opacity=\"1\" /><polyline clip-path=\"url(#clip360)\" style=\"stroke:#000000; stroke-linecap:round; stroke-linejoin:round; stroke-width:4; stroke-opacity:1; fill:none\" points=\"193.936,1486.45 193.936,47.2441 \"/>\n",
       "<polyline clip-path=\"url(#clip360)\" style=\"stroke:#000000; stroke-linecap:round; stroke-linejoin:round; stroke-width:4; stroke-opacity:1; fill:none\" points=\"193.936,1445.8 212.834,1445.8 \"/>\n",
       "<polyline clip-path=\"url(#clip360)\" style=\"stroke:#000000; stroke-linecap:round; stroke-linejoin:round; stroke-width:4; stroke-opacity:1; fill:none\" points=\"193.936,1106.32 212.834,1106.32 \"/>\n",
       "<polyline clip-path=\"url(#clip360)\" style=\"stroke:#000000; stroke-linecap:round; stroke-linejoin:round; stroke-width:4; stroke-opacity:1; fill:none\" points=\"193.936,766.846 212.834,766.846 \"/>\n",
       "<polyline clip-path=\"url(#clip360)\" style=\"stroke:#000000; stroke-linecap:round; stroke-linejoin:round; stroke-width:4; stroke-opacity:1; fill:none\" points=\"193.936,427.368 212.834,427.368 \"/>\n",
       "<polyline clip-path=\"url(#clip360)\" style=\"stroke:#000000; stroke-linecap:round; stroke-linejoin:round; stroke-width:4; stroke-opacity:1; fill:none\" points=\"193.936,87.8908 212.834,87.8908 \"/>\n",
       "<path clip-path=\"url(#clip360)\" d=\"M50.9921 1446.25 L80.6679 1446.25 L80.6679 1450.19 L50.9921 1450.19 L50.9921 1446.25 Z\" fill=\"#000000\" fill-rule=\"nonzero\" fill-opacity=\"1\" /><path clip-path=\"url(#clip360)\" d=\"M91.5706 1459.15 L99.2095 1459.15 L99.2095 1432.78 L90.8993 1434.45 L90.8993 1430.19 L99.1632 1428.52 L103.839 1428.52 L103.839 1459.15 L111.478 1459.15 L111.478 1463.08 L91.5706 1463.08 L91.5706 1459.15 Z\" fill=\"#000000\" fill-rule=\"nonzero\" fill-opacity=\"1\" /><path clip-path=\"url(#clip360)\" d=\"M120.922 1457.2 L125.807 1457.2 L125.807 1463.08 L120.922 1463.08 L120.922 1457.2 Z\" fill=\"#000000\" fill-rule=\"nonzero\" fill-opacity=\"1\" /><path clip-path=\"url(#clip360)\" d=\"M145.992 1431.6 Q142.381 1431.6 140.552 1435.16 Q138.746 1438.71 138.746 1445.84 Q138.746 1452.94 140.552 1456.51 Q142.381 1460.05 145.992 1460.05 Q149.626 1460.05 151.431 1456.51 Q153.26 1452.94 153.26 1445.84 Q153.26 1438.71 151.431 1435.16 Q149.626 1431.6 145.992 1431.6 M145.992 1427.9 Q151.802 1427.9 154.857 1432.5 Q157.936 1437.09 157.936 1445.84 Q157.936 1454.56 154.857 1459.17 Q151.802 1463.75 145.992 1463.75 Q140.181 1463.75 137.103 1459.17 Q134.047 1454.56 134.047 1445.84 Q134.047 1437.09 137.103 1432.5 Q140.181 1427.9 145.992 1427.9 Z\" fill=\"#000000\" fill-rule=\"nonzero\" fill-opacity=\"1\" /><path clip-path=\"url(#clip360)\" d=\"M51.9875 1106.77 L81.6633 1106.77 L81.6633 1110.71 L51.9875 1110.71 L51.9875 1106.77 Z\" fill=\"#000000\" fill-rule=\"nonzero\" fill-opacity=\"1\" /><path clip-path=\"url(#clip360)\" d=\"M101.756 1092.12 Q98.1447 1092.12 96.316 1095.69 Q94.5104 1099.23 94.5104 1106.36 Q94.5104 1113.46 96.316 1117.03 Q98.1447 1120.57 101.756 1120.57 Q105.39 1120.57 107.196 1117.03 Q109.024 1113.46 109.024 1106.36 Q109.024 1099.23 107.196 1095.69 Q105.39 1092.12 101.756 1092.12 M101.756 1088.42 Q107.566 1088.42 110.621 1093.03 Q113.7 1097.61 113.7 1106.36 Q113.7 1115.09 110.621 1119.69 Q107.566 1124.27 101.756 1124.27 Q95.9456 1124.27 92.8669 1119.69 Q89.8114 1115.09 89.8114 1106.36 Q89.8114 1097.61 92.8669 1093.03 Q95.9456 1088.42 101.756 1088.42 Z\" fill=\"#000000\" fill-rule=\"nonzero\" fill-opacity=\"1\" /><path clip-path=\"url(#clip360)\" d=\"M121.918 1117.72 L126.802 1117.72 L126.802 1123.6 L121.918 1123.6 L121.918 1117.72 Z\" fill=\"#000000\" fill-rule=\"nonzero\" fill-opacity=\"1\" /><path clip-path=\"url(#clip360)\" d=\"M137.033 1089.04 L155.39 1089.04 L155.39 1092.98 L141.316 1092.98 L141.316 1101.45 Q142.334 1101.1 143.353 1100.94 Q144.371 1100.76 145.39 1100.76 Q151.177 1100.76 154.556 1103.93 Q157.936 1107.1 157.936 1112.52 Q157.936 1118.09 154.464 1121.2 Q150.992 1124.27 144.672 1124.27 Q142.496 1124.27 140.228 1123.9 Q137.982 1123.53 135.575 1122.79 L135.575 1118.09 Q137.658 1119.23 139.881 1119.78 Q142.103 1120.34 144.58 1120.34 Q148.584 1120.34 150.922 1118.23 Q153.26 1116.13 153.26 1112.52 Q153.26 1108.9 150.922 1106.8 Q148.584 1104.69 144.58 1104.69 Q142.705 1104.69 140.83 1105.11 Q138.978 1105.52 137.033 1106.4 L137.033 1089.04 Z\" fill=\"#000000\" fill-rule=\"nonzero\" fill-opacity=\"1\" /><path clip-path=\"url(#clip360)\" d=\"M100.76 752.645 Q97.1493 752.645 95.3206 756.209 Q93.515 759.751 93.515 766.881 Q93.515 773.987 95.3206 777.552 Q97.1493 781.094 100.76 781.094 Q104.395 781.094 106.2 777.552 Q108.029 773.987 108.029 766.881 Q108.029 759.751 106.2 756.209 Q104.395 752.645 100.76 752.645 M100.76 748.941 Q106.571 748.941 109.626 753.547 Q112.705 758.131 112.705 766.881 Q112.705 775.608 109.626 780.214 Q106.571 784.797 100.76 784.797 Q94.9502 784.797 91.8715 780.214 Q88.816 775.608 88.816 766.881 Q88.816 758.131 91.8715 753.547 Q94.9502 748.941 100.76 748.941 Z\" fill=\"#000000\" fill-rule=\"nonzero\" fill-opacity=\"1\" /><path clip-path=\"url(#clip360)\" d=\"M120.922 778.246 L125.807 778.246 L125.807 784.126 L120.922 784.126 L120.922 778.246 Z\" fill=\"#000000\" fill-rule=\"nonzero\" fill-opacity=\"1\" /><path clip-path=\"url(#clip360)\" d=\"M145.992 752.645 Q142.381 752.645 140.552 756.209 Q138.746 759.751 138.746 766.881 Q138.746 773.987 140.552 777.552 Q142.381 781.094 145.992 781.094 Q149.626 781.094 151.431 777.552 Q153.26 773.987 153.26 766.881 Q153.26 759.751 151.431 756.209 Q149.626 752.645 145.992 752.645 M145.992 748.941 Q151.802 748.941 154.857 753.547 Q157.936 758.131 157.936 766.881 Q157.936 775.608 154.857 780.214 Q151.802 784.797 145.992 784.797 Q140.181 784.797 137.103 780.214 Q134.047 775.608 134.047 766.881 Q134.047 758.131 137.103 753.547 Q140.181 748.941 145.992 748.941 Z\" fill=\"#000000\" fill-rule=\"nonzero\" fill-opacity=\"1\" /><path clip-path=\"url(#clip360)\" d=\"M101.756 413.167 Q98.1447 413.167 96.316 416.732 Q94.5104 420.274 94.5104 427.403 Q94.5104 434.51 96.316 438.074 Q98.1447 441.616 101.756 441.616 Q105.39 441.616 107.196 438.074 Q109.024 434.51 109.024 427.403 Q109.024 420.274 107.196 416.732 Q105.39 413.167 101.756 413.167 M101.756 409.463 Q107.566 409.463 110.621 414.07 Q113.7 418.653 113.7 427.403 Q113.7 436.13 110.621 440.736 Q107.566 445.32 101.756 445.32 Q95.9456 445.32 92.8669 440.736 Q89.8114 436.13 89.8114 427.403 Q89.8114 418.653 92.8669 414.07 Q95.9456 409.463 101.756 409.463 Z\" fill=\"#000000\" fill-rule=\"nonzero\" fill-opacity=\"1\" /><path clip-path=\"url(#clip360)\" d=\"M121.918 438.769 L126.802 438.769 L126.802 444.648 L121.918 444.648 L121.918 438.769 Z\" fill=\"#000000\" fill-rule=\"nonzero\" fill-opacity=\"1\" /><path clip-path=\"url(#clip360)\" d=\"M137.033 410.088 L155.39 410.088 L155.39 414.024 L141.316 414.024 L141.316 422.496 Q142.334 422.149 143.353 421.986 Q144.371 421.801 145.39 421.801 Q151.177 421.801 154.556 424.973 Q157.936 428.144 157.936 433.56 Q157.936 439.139 154.464 442.241 Q150.992 445.32 144.672 445.32 Q142.496 445.32 140.228 444.949 Q137.982 444.579 135.575 443.838 L135.575 439.139 Q137.658 440.273 139.881 440.829 Q142.103 441.385 144.58 441.385 Q148.584 441.385 150.922 439.278 Q153.26 437.172 153.26 433.56 Q153.26 429.949 150.922 427.843 Q148.584 425.736 144.58 425.736 Q142.705 425.736 140.83 426.153 Q138.978 426.57 137.033 427.449 L137.033 410.088 Z\" fill=\"#000000\" fill-rule=\"nonzero\" fill-opacity=\"1\" /><path clip-path=\"url(#clip360)\" d=\"M91.5706 101.236 L99.2095 101.236 L99.2095 74.8701 L90.8993 76.5367 L90.8993 72.2775 L99.1632 70.6108 L103.839 70.6108 L103.839 101.236 L111.478 101.236 L111.478 105.171 L91.5706 105.171 L91.5706 101.236 Z\" fill=\"#000000\" fill-rule=\"nonzero\" fill-opacity=\"1\" /><path clip-path=\"url(#clip360)\" d=\"M120.922 99.2912 L125.807 99.2912 L125.807 105.171 L120.922 105.171 L120.922 99.2912 Z\" fill=\"#000000\" fill-rule=\"nonzero\" fill-opacity=\"1\" /><path clip-path=\"url(#clip360)\" d=\"M145.992 73.6895 Q142.381 73.6895 140.552 77.2543 Q138.746 80.7959 138.746 87.9255 Q138.746 95.032 140.552 98.5968 Q142.381 102.138 145.992 102.138 Q149.626 102.138 151.431 98.5968 Q153.26 95.032 153.26 87.9255 Q153.26 80.7959 151.431 77.2543 Q149.626 73.6895 145.992 73.6895 M145.992 69.9858 Q151.802 69.9858 154.857 74.5923 Q157.936 79.1756 157.936 87.9255 Q157.936 96.6523 154.857 101.259 Q151.802 105.842 145.992 105.842 Q140.181 105.842 137.103 101.259 Q134.047 96.6523 134.047 87.9255 Q134.047 79.1756 137.103 74.5923 Q140.181 69.9858 145.992 69.9858 Z\" fill=\"#000000\" fill-rule=\"nonzero\" fill-opacity=\"1\" /><polyline clip-path=\"url(#clip362)\" style=\"stroke:#009af9; stroke-linecap:round; stroke-linejoin:round; stroke-width:4; stroke-opacity:1; fill:none\" points=\"255.035,766.846 275.607,723.784 296.179,680.895 316.751,638.353 337.322,596.328 357.894,554.989 378.466,514.504 399.038,475.035 419.61,436.74 440.182,399.775 460.754,364.288 481.326,330.422 501.898,298.313 522.47,268.091 543.042,239.877 563.614,213.785 584.186,189.921 604.758,168.379 625.33,149.247 645.902,132.601 666.474,118.51 687.046,107.029 707.617,98.2057 728.189,92.0742 748.761,88.6598 769.333,87.9763 789.905,90.0263 810.477,94.8016 831.049,102.283 851.621,112.44 872.193,125.233 892.765,140.609 913.337,158.506 933.909,178.854 954.481,201.568 975.053,226.559 995.625,253.726 1016.2,282.959 1036.77,314.14 1057.34,347.144 1077.91,381.838 1098.48,418.082 1119.06,455.731 1139.63,494.632 1160.2,534.63 1180.77,575.562 1201.34,617.265 1221.92,659.57 1242.49,702.307 1263.06,745.304 1283.63,788.388 1304.2,831.385 1324.78,874.122 1345.35,916.427 1365.92,958.13 1386.49,999.062 1407.06,1039.06 1427.64,1077.96 1448.21,1115.61 1468.78,1151.85 1489.35,1186.55 1509.92,1219.55 1530.5,1250.73 1551.07,1279.97 1571.64,1307.13 1592.21,1332.12 1612.78,1354.84 1633.35,1375.19 1653.93,1393.08 1674.5,1408.46 1695.07,1421.25 1715.64,1431.41 1736.21,1438.89 1756.79,1443.67 1777.36,1445.72 1797.93,1445.03 1818.5,1441.62 1839.07,1435.49 1859.65,1426.66 1880.22,1415.18 1900.79,1401.09 1921.36,1384.45 1941.93,1365.31 1962.51,1343.77 1983.08,1319.91 2003.65,1293.81 2024.22,1265.6 2044.79,1235.38 2065.37,1203.27 2085.94,1169.4 2106.51,1133.92 2127.08,1096.95 2147.65,1058.66 2168.23,1019.19 2188.8,978.703 2209.37,937.364 2229.94,895.339 2250.51,852.797 2271.09,809.908 2291.66,766.846 \"/>\n",
       "<path clip-path=\"url(#clip360)\" d=\"M2012.48 198.898 L2280.8 198.898 L2280.8 95.2176 L2012.48 95.2176  Z\" fill=\"#ffffff\" fill-rule=\"evenodd\" fill-opacity=\"1\"/>\n",
       "<polyline clip-path=\"url(#clip360)\" style=\"stroke:#000000; stroke-linecap:round; stroke-linejoin:round; stroke-width:4; stroke-opacity:1; fill:none\" points=\"2012.48,198.898 2280.8,198.898 2280.8,95.2176 2012.48,95.2176 2012.48,198.898 \"/>\n",
       "<polyline clip-path=\"url(#clip360)\" style=\"stroke:#009af9; stroke-linecap:round; stroke-linejoin:round; stroke-width:4; stroke-opacity:1; fill:none\" points=\"2036.47,147.058 2180.39,147.058 \"/>\n",
       "<path clip-path=\"url(#clip360)\" d=\"M2218.22 166.745 Q2216.42 171.375 2214.7 172.787 Q2212.99 174.199 2210.12 174.199 L2206.72 174.199 L2206.72 170.634 L2209.22 170.634 Q2210.98 170.634 2211.95 169.8 Q2212.92 168.967 2214.1 165.865 L2214.86 163.921 L2204.38 138.412 L2208.89 138.412 L2216.99 158.689 L2225.1 138.412 L2229.61 138.412 L2218.22 166.745 Z\" fill=\"#000000\" fill-rule=\"nonzero\" fill-opacity=\"1\" /><path clip-path=\"url(#clip360)\" d=\"M2236.9 160.402 L2244.54 160.402 L2244.54 134.037 L2236.23 135.703 L2236.23 131.444 L2244.49 129.778 L2249.17 129.778 L2249.17 160.402 L2256.81 160.402 L2256.81 164.338 L2236.9 164.338 L2236.9 160.402 Z\" fill=\"#000000\" fill-rule=\"nonzero\" fill-opacity=\"1\" /></svg>\n"
      ]
     },
     "metadata": {},
     "output_type": "display_data"
    }
   ],
   "source": [
    "xvalues = range(0, 2*pi, 100)\n",
    "plot(xvalues, f.(xvalues))"
   ]
  }
 ],
 "metadata": {
  "kernelspec": {
   "display_name": "Julia 1.11.5",
   "language": "julia",
   "name": "julia-1.11"
  },
  "language_info": {
   "file_extension": ".jl",
   "mimetype": "application/julia",
   "name": "julia",
   "version": "1.11.5"
  }
 },
 "nbformat": 4,
 "nbformat_minor": 5
}
